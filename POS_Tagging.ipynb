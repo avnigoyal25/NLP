{
 "cells": [
  {
   "cell_type": "code",
   "execution_count": 1,
   "id": "e047525a",
   "metadata": {},
   "outputs": [],
   "source": [
    "import spacy"
   ]
  },
  {
   "cell_type": "code",
   "execution_count": 2,
   "id": "25746327",
   "metadata": {},
   "outputs": [],
   "source": [
    "nlp = spacy.load('en_core_web_sm')"
   ]
  },
  {
   "cell_type": "code",
   "execution_count": 3,
   "id": "19650604",
   "metadata": {},
   "outputs": [],
   "source": [
    "doc = nlp(u\"I will google about facebook\")"
   ]
  },
  {
   "cell_type": "code",
   "execution_count": 4,
   "id": "6f1a2e45",
   "metadata": {},
   "outputs": [
    {
     "data": {
      "text/plain": [
       "'I will google about facebook'"
      ]
     },
     "execution_count": 4,
     "metadata": {},
     "output_type": "execute_result"
    }
   ],
   "source": [
    "doc.text"
   ]
  },
  {
   "cell_type": "code",
   "execution_count": 5,
   "id": "2c0c4092",
   "metadata": {},
   "outputs": [
    {
     "data": {
      "text/plain": [
       "facebook"
      ]
     },
     "execution_count": 5,
     "metadata": {},
     "output_type": "execute_result"
    }
   ],
   "source": [
    "doc[-1]"
   ]
  },
  {
   "cell_type": "code",
   "execution_count": 6,
   "id": "06c83f4c",
   "metadata": {},
   "outputs": [
    {
     "data": {
      "text/plain": [
       "'VERB'"
      ]
     },
     "execution_count": 6,
     "metadata": {},
     "output_type": "execute_result"
    }
   ],
   "source": [
    "doc[2].pos_"
   ]
  },
  {
   "cell_type": "code",
   "execution_count": 7,
   "id": "af6d8fc9",
   "metadata": {},
   "outputs": [
    {
     "data": {
      "text/plain": [
       "'VB'"
      ]
     },
     "execution_count": 7,
     "metadata": {},
     "output_type": "execute_result"
    }
   ],
   "source": [
    "doc[2].tag_"
   ]
  },
  {
   "cell_type": "code",
   "execution_count": 8,
   "id": "1e50d9e9",
   "metadata": {},
   "outputs": [
    {
     "data": {
      "text/plain": [
       "'verb, base form'"
      ]
     },
     "execution_count": 8,
     "metadata": {},
     "output_type": "execute_result"
    }
   ],
   "source": [
    "spacy.explain('VB')"
   ]
  },
  {
   "cell_type": "code",
   "execution_count": 9,
   "id": "486d827c",
   "metadata": {},
   "outputs": [
    {
     "name": "stdout",
     "output_type": "stream",
     "text": [
      "I ------> PRON PRP pronoun, personal\n",
      "will ------> AUX MD verb, modal auxiliary\n",
      "google ------> VERB VB verb, base form\n",
      "about ------> ADP IN conjunction, subordinating or preposition\n",
      "facebook ------> NOUN NN noun, singular or mass\n"
     ]
    }
   ],
   "source": [
    "for word in doc:\n",
    "    print(word.text,\"------>\", word.pos_,word.tag_,spacy.explain(word.tag_))"
   ]
  },
  {
   "cell_type": "code",
   "execution_count": 10,
   "id": "d4ea0a4d",
   "metadata": {},
   "outputs": [
    {
     "name": "stdout",
     "output_type": "stream",
     "text": [
      "I ------> PRON PRP pronoun, personal\n",
      "left ------> VERB VBD verb, past tense\n",
      "the ------> DET DT determiner\n",
      "room ------> NOUN NN noun, singular or mass\n"
     ]
    }
   ],
   "source": [
    "doc2 = nlp(u\"I left the room\")\n",
    "for word in doc2:\n",
    "    print(word.text,\"------>\", word.pos_,word.tag_,spacy.explain(word.tag_))"
   ]
  },
  {
   "cell_type": "code",
   "execution_count": 11,
   "id": "7fc0aa23",
   "metadata": {},
   "outputs": [
    {
     "name": "stdout",
     "output_type": "stream",
     "text": [
      "to ------> ADP IN conjunction, subordinating or preposition\n",
      "the ------> DET DT determiner\n",
      "left ------> NOUN NN noun, singular or mass\n",
      "of ------> ADP IN conjunction, subordinating or preposition\n",
      "the ------> DET DT determiner\n",
      "room ------> NOUN NN noun, singular or mass\n"
     ]
    }
   ],
   "source": [
    "doc3 = nlp(u\"to the left of the room\")\n",
    "for word in doc3:\n",
    "    print(word.text,\"------>\", word.pos_,word.tag_,spacy.explain(word.tag_))"
   ]
  },
  {
   "cell_type": "code",
   "execution_count": 12,
   "id": "834a3e94",
   "metadata": {},
   "outputs": [
    {
     "name": "stdout",
     "output_type": "stream",
     "text": [
      "I ------> PRON PRP pronoun, personal\n",
      "read ------> VERB VBP verb, non-3rd person singular present\n",
      "books ------> NOUN NNS noun, plural\n",
      "on ------> ADP IN conjunction, subordinating or preposition\n",
      "history ------> NOUN NN noun, singular or mass\n"
     ]
    }
   ],
   "source": [
    "doc4 = nlp(u\"I read books on history\")\n",
    "for word in doc4:\n",
    "    print(word.text,\"------>\", word.pos_,word.tag_,spacy.explain(word.tag_))"
   ]
  },
  {
   "cell_type": "code",
   "execution_count": 13,
   "id": "cb53c90b",
   "metadata": {},
   "outputs": [
    {
     "name": "stdout",
     "output_type": "stream",
     "text": [
      "I ------> PRON PRP pronoun, personal\n",
      "have ------> AUX VBP verb, non-3rd person singular present\n",
      "read ------> VERB VBN verb, past participle\n",
      "a ------> DET DT determiner\n",
      "book ------> NOUN NN noun, singular or mass\n",
      "on ------> ADP IN conjunction, subordinating or preposition\n",
      "history ------> NOUN NN noun, singular or mass\n"
     ]
    }
   ],
   "source": [
    "doc5 = nlp(u\"I have read a book on history\")\n",
    "for word in doc5:\n",
    "    print(word.text,\"------>\", word.pos_,word.tag_,spacy.explain(word.tag_))"
   ]
  },
  {
   "cell_type": "code",
   "execution_count": 14,
   "id": "c55f7409",
   "metadata": {},
   "outputs": [],
   "source": [
    "doc6 = nlp(u\"The quick brown fox jumped over the lazy dog\")"
   ]
  },
  {
   "cell_type": "code",
   "execution_count": 15,
   "id": "ad47f872",
   "metadata": {},
   "outputs": [],
   "source": [
    "from spacy import displacy"
   ]
  }
 ],
 "metadata": {
  "kernelspec": {
   "display_name": "Python 3 (ipykernel)",
   "language": "python",
   "name": "python3"
  },
  "language_info": {
   "codemirror_mode": {
    "name": "ipython",
    "version": 3
   },
   "file_extension": ".py",
   "mimetype": "text/x-python",
   "name": "python",
   "nbconvert_exporter": "python",
   "pygments_lexer": "ipython3",
   "version": "3.10.5"
  }
 },
 "nbformat": 4,
 "nbformat_minor": 5
}
